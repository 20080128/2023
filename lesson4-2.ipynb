{
 "cells": [
  {
   "cell_type": "code",
   "execution_count": 5,
   "metadata": {},
   "outputs": [
    {
     "name": "stdout",
     "output_type": "stream",
     "text": [
      "學生總分為210\n"
     ]
    }
   ],
   "source": [
    "#學生總分為300\n",
    "#有些學生可以加5%\n",
    "score=int(input(\"請輸入學生分數(最高300分):\"))\n",
    "is_add=input(\"學生是否府和加分條件?(y,n)\")\n",
    "\n",
    "if(is_add==\"y\"):     #如果條件1成立繼續條件2,如不成立則直接進行最後一行\n",
    "    score*=1.05      #條件1成立:score*1.05\n",
    "    if score>300:    #如條件1的結果>300,則score=300\n",
    "        score=300\n",
    "\n",
    "print(f\"學生總分為{round(score)}\")    #round:四捨五入\n",
    "\n"
   ]
  },
  {
   "cell_type": "code",
   "execution_count": 9,
   "metadata": {},
   "outputs": [
    {
     "name": "stdout",
     "output_type": "stream",
     "text": [
      "學生總分為300\n"
     ]
    }
   ],
   "source": [
    "score=int(input(\"請輸入學生分數(最高300分):\"))\n",
    "if score<=300:\n",
    "    is_add=input(\"學生是否府和加分條件?(y,n)\")\n",
    "\n",
    "    if(is_add==\"y\"):\n",
    "        score*=1.05\n",
    "        if score>300:\n",
    "            score=300\n",
    "\n",
    "    print(f\"學生總分為{round(score)}\")\n",
    "else:\n",
    "    print(\"輸入超過300分,請重新執行\")"
   ]
  }
 ],
 "metadata": {
  "kernelspec": {
   "display_name": "Python 3",
   "language": "python",
   "name": "python3"
  },
  "language_info": {
   "codemirror_mode": {
    "name": "ipython",
    "version": 3
   },
   "file_extension": ".py",
   "mimetype": "text/x-python",
   "name": "python",
   "nbconvert_exporter": "python",
   "pygments_lexer": "ipython3",
   "version": "3.10.12"
  },
  "orig_nbformat": 4
 },
 "nbformat": 4,
 "nbformat_minor": 2
}
